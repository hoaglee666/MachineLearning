{
  "cells": [
    {
      "cell_type": "code",
      "execution_count": 1,
      "metadata": {
        "id": "M0ChYPGuRKpq"
      },
      "outputs": [],
      "source": [
        "%matplotlib inline"
      ]
    },
    {
      "cell_type": "markdown",
      "metadata": {
        "id": "VmlPjiluRKpt"
      },
      "source": [
        "\n",
        "Training a Classifier\n",
        "=====================\n",
        "\n",
        "This is it. You have seen how to define neural networks, compute loss and make\n",
        "updates to the weights of the network.\n",
        "\n",
        "Now you might be thinking,\n",
        "\n",
        "What about data?\n",
        "----------------\n",
        "\n",
        "Generally, when you have to deal with image, text, audio or video data,\n",
        "you can use standard python packages that load data into a numpy array.\n",
        "Then you can convert this array into a ``torch.*Tensor``.\n",
        "\n",
        "-  For images, packages such as Pillow, OpenCV are useful\n",
        "-  For audio, packages such as scipy and librosa\n",
        "-  For text, either raw Python or Cython based loading, or NLTK and\n",
        "   SpaCy are useful\n",
        "\n",
        "Specifically for vision, we have created a package called\n",
        "``torchvision``, that has data loaders for common datasets such as\n",
        "Imagenet, CIFAR10, MNIST, etc. and data transformers for images, viz.,\n",
        "``torchvision.datasets`` and ``torch.utils.data.DataLoader``.\n",
        "\n",
        "This provides a huge convenience and avoids writing boilerplate code.\n",
        "\n",
        "For this tutorial, we will use the CIFAR10 dataset.\n",
        "It has the classes: ‘airplane’, ‘automobile’, ‘bird’, ‘cat’, ‘deer’,\n",
        "‘dog’, ‘frog’, ‘horse’, ‘ship’, ‘truck’. The images in CIFAR-10 are of\n",
        "size 3x32x32, i.e. 3-channel color images of 32x32 pixels in size.\n",
        "\n",
        ".. figure:: /_static/img/cifar10.png\n",
        "   :alt: cifar10\n",
        "\n",
        "   cifar10\n",
        "\n",
        "\n",
        "Training an image classifier\n",
        "----------------------------\n",
        "\n",
        "We will do the following steps in order:\n",
        "\n",
        "1. Load and normalizing the CIFAR10 training and test datasets using\n",
        "   ``torchvision``\n",
        "2. Define a Convolution Neural Network\n",
        "3. Define a loss function\n",
        "4. Train the network on the training data\n",
        "5. Test the network on the test data\n",
        "\n",
        "1. Loading and normalizing CIFAR10\n",
        "^^^^^^^^^^^^^^^^^^^^^^^^^^^^^^^^^^\n",
        "\n",
        "Using ``torchvision``, it’s extremely easy to load CIFAR10.\n",
        "\n"
      ]
    },
    {
      "cell_type": "code",
      "execution_count": 2,
      "metadata": {
        "colab": {
          "base_uri": "https://localhost:8080/"
        },
        "id": "x8P4A47KRKpw",
        "outputId": "02300ed2-6b76-4778-97fc-43befd44a7dc"
      },
      "outputs": [
        {
          "output_type": "stream",
          "name": "stdout",
          "text": [
            "cuda:0\n"
          ]
        }
      ],
      "source": [
        "import torch\n",
        "import torchvision\n",
        "import torchvision.transforms as transforms\n",
        "\n",
        "device = torch.device(\"cuda:0\" if torch.cuda.is_available() else \"cpu\")\n",
        "\n",
        "# Assume that we are on a CUDA machine, then this should print a CUDA device:\n",
        "\n",
        "print(device)"
      ]
    },
    {
      "cell_type": "markdown",
      "metadata": {
        "id": "N-QijpJWRKpw"
      },
      "source": [
        "The output of torchvision datasets are PILImage images of range [0, 1].\n",
        "We transform them to Tensors of normalized range [-1, 1].\n",
        "\n"
      ]
    },
    {
      "cell_type": "code",
      "execution_count": 3,
      "metadata": {
        "colab": {
          "base_uri": "https://localhost:8080/"
        },
        "id": "sK7oWlNrRKpx",
        "outputId": "1ade0ee6-9f0f-4b12-90c0-8ebf4c4ecfef"
      },
      "outputs": [
        {
          "output_type": "stream",
          "name": "stderr",
          "text": [
            "100%|██████████| 170M/170M [00:12<00:00, 13.3MB/s]\n"
          ]
        }
      ],
      "source": [
        "transform = transforms.Compose(\n",
        "    [transforms.ToTensor(),\n",
        "     transforms.Normalize((0.5, 0.5, 0.5), (0.5, 0.5, 0.5))])\n",
        "\n",
        "trainset = torchvision.datasets.CIFAR10(root='./data', train=True,\n",
        "                                        download=True, transform=transform)\n",
        "trainloader = torch.utils.data.DataLoader(trainset, batch_size=4,\n",
        "                                          shuffle=True, num_workers=2)\n",
        "\n",
        "testset = torchvision.datasets.CIFAR10(root='./data', train=False,\n",
        "                                       download=True, transform=transform)\n",
        "testloader = torch.utils.data.DataLoader(testset, batch_size=4,\n",
        "                                         shuffle=False, num_workers=2)\n",
        "\n",
        "classes = ('plane', 'car', 'bird', 'cat',\n",
        "           'deer', 'dog', 'frog', 'horse', 'ship', 'truck')"
      ]
    },
    {
      "cell_type": "markdown",
      "metadata": {
        "id": "LgFmfYLuRKpx"
      },
      "source": [
        "Let us show some of the training images, for fun.\n",
        "\n"
      ]
    },
    {
      "cell_type": "code",
      "execution_count": 4,
      "metadata": {
        "colab": {
          "base_uri": "https://localhost:8080/",
          "height": 211
        },
        "id": "Pkv6tEgORKpx",
        "outputId": "1b6eb531-9d1c-45aa-cc09-c2eaab252d17"
      },
      "outputs": [
        {
          "output_type": "stream",
          "name": "stdout",
          "text": [
            " frog  deer   cat horse\n"
          ]
        },
        {
          "output_type": "display_data",
          "data": {
            "text/plain": [
              "<Figure size 640x480 with 1 Axes>"
            ],
            "image/png": "[encoded data removed]"
          },
          "metadata": {}
        }
      ],
      "source": [
        "import matplotlib.pyplot as plt\n",
        "import numpy as np\n",
        "\n",
        "# functions to show an image\n",
        "\n",
        "\n",
        "def imshow(img):\n",
        "    img = img / 2 + 0.5     # unnormalize\n",
        "    npimg = img.numpy()\n",
        "    plt.imshow(np.transpose(npimg, (1, 2, 0)))\n",
        "\n",
        "\n",
        "# get some random training images\n",
        "dataiter = iter(trainloader)\n",
        "images, labels = next(dataiter)\n",
        "\n",
        "# show images\n",
        "imshow(torchvision.utils.make_grid(images))\n",
        "# print labels\n",
        "print(' '.join('%5s' % classes[labels[j]] for j in range(4)))"
      ]
    },
    {
      "cell_type": "markdown",
      "metadata": {
        "id": "2wT3ZZvLRKpy"
      },
      "source": [
        "2. Define a Convolution Neural Network\n",
        "^^^^^^^^^^^^^^^^^^^^^^^^^^^^^^^^^^^^^^\n",
        "Copy the neural network from the Neural Networks section before and modify it to\n",
        "take 3-channel images (instead of 1-channel images as it was defined).\n",
        "\n"
      ]
    },
    {
      "cell_type": "code",
      "execution_count": 14,
      "metadata": {
        "colab": {
          "base_uri": "https://localhost:8080/"
        },
        "id": "VoQiEXcbRKpy",
        "outputId": "db3e9f87-b148-48c0-ea95-6cba9c0e735c"
      },
      "outputs": [
        {
          "output_type": "stream",
          "name": "stdout",
          "text": [
            "Net(\n",
            "  (conv0): Conv2d(3, 32, kernel_size=(5, 5), stride=(1, 1), padding=(1, 1))\n",
            "  (conv1): Conv2d(3, 16, kernel_size=(5, 5), stride=(1, 1))\n",
            "  (conv2): Conv2d(16, 32, kernel_size=(5, 5), stride=(1, 1), padding=(3, 3))\n",
            "  (conv3): Conv2d(16, 16, kernel_size=(5, 5), stride=(1, 1), padding=(1, 1))\n",
            "  (pool1): MaxPool2d(kernel_size=5, stride=1, padding=0, dilation=1, ceil_mode=False)\n",
            "  (conv4): Conv2d(16, 32, kernel_size=(5, 5), stride=(1, 1), padding=(2, 2))\n",
            "  (conv5): Conv2d(32, 64, kernel_size=(5, 5), stride=(1, 1), padding=(1, 1))\n",
            "  (pool2): MaxPool2d(kernel_size=5, stride=1, padding=2, dilation=1, ceil_mode=False)\n",
            "  (conv6): Conv2d(64, 64, kernel_size=(5, 5), stride=(1, 1), padding=(1, 1))\n",
            "  (conv7): Conv2d(64, 128, kernel_size=(5, 5), stride=(1, 1))\n",
            "  (conv8): Conv2d(128, 256, kernel_size=(5, 5), stride=(1, 1), padding=(1, 1))\n",
            "  (conv9): Conv2d(256, 512, kernel_size=(5, 5), stride=(3, 3), padding=(5, 5))\n",
            "  (conv10): Conv2d(512, 512, kernel_size=(5, 5), stride=(2, 2), padding=(1, 1))\n",
            "  (fc1): Linear(in_features=8192, out_features=120, bias=True)\n",
            "  (fc3): Linear(in_features=120, out_features=10, bias=True)\n",
            ")\n",
            "----------------------------------------------------------------\n",
            "        Layer (type)               Output Shape         Param #\n",
            "================================================================\n",
            "            Conv2d-1           [-1, 32, 30, 30]           2,432\n",
            "            Conv2d-2           [-1, 16, 28, 28]           1,216\n",
            "            Conv2d-3           [-1, 32, 30, 30]          12,832\n",
            "         MaxPool2d-4           [-1, 32, 26, 26]               0\n",
            "            Conv2d-5           [-1, 16, 26, 26]           6,416\n",
            "            Conv2d-6           [-1, 32, 26, 26]          12,832\n",
            "         MaxPool2d-7           [-1, 64, 26, 26]               0\n",
            "            Conv2d-8           [-1, 64, 28, 28]          51,264\n",
            "            Conv2d-9           [-1, 64, 26, 26]         102,464\n",
            "           Conv2d-10          [-1, 128, 22, 22]         204,928\n",
            "           Conv2d-11          [-1, 256, 20, 20]         819,456\n",
            "           Conv2d-12            [-1, 512, 9, 9]       3,277,312\n",
            "           Conv2d-13            [-1, 512, 4, 4]       6,554,112\n",
            "           Linear-14                  [-1, 120]         983,160\n",
            "           Linear-15                   [-1, 10]           1,210\n",
            "================================================================\n",
            "Total params: 12,029,634\n",
            "Trainable params: 12,029,634\n",
            "Non-trainable params: 0\n",
            "----------------------------------------------------------------\n",
            "Input size (MB): 0.01\n",
            "Forward/backward pass size (MB): 3.62\n",
            "Params size (MB): 45.89\n",
            "Estimated Total Size (MB): 49.53\n",
            "----------------------------------------------------------------\n"
          ]
        }
      ],
      "source": [
        "import torch.nn as nn\n",
        "import torch.nn.functional as F\n",
        "\n",
        "\n",
        "class Net(nn.Module):\n",
        "    def __init__(self):\n",
        "        super(Net, self).__init__()\n",
        "        self.conv0 = nn.Conv2d(3, 32, 5, 1, 1)\n",
        "        self.conv1 = nn.Conv2d(3, 16, 5, 1, 0)\n",
        "        self.conv2 = nn.Conv2d(16, 32, 5, 1, 3)\n",
        "        self.conv3 = nn.Conv2d(16, 16, 5, 1, 1)\n",
        "        self.pool1 = nn.MaxPool2d(5, 1, 0)\n",
        "        self.conv4 = nn.Conv2d(16, 32, 5, 1, 2)\n",
        "        self.conv5 = nn.Conv2d(32, 64, 5, 1, 1)\n",
        "        self.pool2 = nn.MaxPool2d(5, 1, 2)\n",
        "        self.conv6 = nn.Conv2d(64, 64, 5, 1, 1)\n",
        "        self.conv7 = nn.Conv2d(64, 128, 5, 1, 0)\n",
        "        self.conv8 = nn.Conv2d(128, 256, 5, 1, 1)\n",
        "        self.conv9 = nn.Conv2d(256, 512, 5, 3, 5)\n",
        "        self.conv10 = nn.Conv2d(512, 512, 5, 2, 1)\n",
        "        self.fc1 = nn.Linear(4 * 4 * 512, 120)\n",
        "        self.fc3 = nn.Linear(120, 10)\n",
        "\n",
        "    def forward(self, x):\n",
        "        x0 = F.relu(self.conv0(x))\n",
        "        x1 = F.relu(self.conv1(x))\n",
        "        x3 = F.relu(self.conv2(x1))\n",
        "        x0 = x0 + x3\n",
        "        x3 = self.pool1(x3)\n",
        "        x2 = F.relu(self.conv3(x1))\n",
        "        x2 = F.relu(self.conv4(x2))\n",
        "        x = torch.cat((x2, x3), dim=1)\n",
        "        x = self.pool2(x)\n",
        "        x0 = F.relu(self.conv5(x0))\n",
        "        x0 = F.relu(self.conv6(x0))\n",
        "        x = x + x0\n",
        "        x = F.relu(self.conv7(x))\n",
        "        x = F.relu(self.conv8(x))\n",
        "        x = F.relu(self.conv9(x))\n",
        "        x = F.relu(self.conv10(x))\n",
        "\n",
        "\n",
        "        x = x.view(-1, 4 * 4 * 512)\n",
        "        x = F.relu(self.fc1(x))\n",
        "        x = self.fc3(x)\n",
        "        return x\n",
        "\n",
        "\n",
        "model = Net()\n",
        "from torchsummary import summary\n",
        "net = model.to(device)\n",
        "print(net)\n",
        "summary(net, input_size=(3, 32, 32))"
      ]
    },
    {
      "cell_type": "markdown",
      "metadata": {
        "id": "L87Ma3GfRKpy"
      },
      "source": [
        "3. Define a Loss function and optimizer\n",
        "^^^^^^^^^^^^^^^^^^^^^^^^^^^^^^^^^^^^^^^\n",
        "Let's use a Classification Cross-Entropy loss and SGD with momentum.\n",
        "\n"
      ]
    },
    {
      "cell_type": "code",
      "execution_count": 15,
      "metadata": {
        "id": "yNywhNjzRKpy"
      },
      "outputs": [],
      "source": [
        "import torch.optim as optim\n",
        "\n",
        "criterion = nn.CrossEntropyLoss()\n",
        "optimizer = optim.SGD(net.parameters(), lr=0.001, momentum=0.9)"
      ]
    },
    {
      "cell_type": "markdown",
      "metadata": {
        "id": "cIX6LZn8RKpy"
      },
      "source": [
        "4. Train the network\n",
        "^^^^^^^^^^^^^^^^^^^^\n",
        "\n",
        "This is when things start to get interesting.\n",
        "We simply have to loop over our data iterator, and feed the inputs to the\n",
        "network and optimize.\n",
        "\n"
      ]
    },
    {
      "cell_type": "code",
      "execution_count": 16,
      "metadata": {
        "id": "hkqS9KZfRKpz",
        "colab": {
          "base_uri": "https://localhost:8080/"
        },
        "collapsed": true,
        "outputId": "1becd447-bba5-4839-dfea-08d0bd66e328"
      },
      "outputs": [
        {
          "output_type": "stream",
          "name": "stdout",
          "text": [
            "[1,  2000] loss: 2.292\n",
            "[1,  4000] loss: 2.020\n",
            "[1,  6000] loss: 1.886\n",
            "[1,  8000] loss: 1.747\n",
            "[1, 10000] loss: 1.642\n",
            "[1, 12000] loss: 1.526\n",
            "[2,  2000] loss: 1.435\n",
            "[2,  4000] loss: 1.379\n",
            "[2,  6000] loss: 1.330\n",
            "[2,  8000] loss: 1.311\n",
            "[2, 10000] loss: 1.245\n",
            "[2, 12000] loss: 1.211\n",
            "[3,  2000] loss: 1.158\n",
            "[3,  4000] loss: 1.129\n",
            "[3,  6000] loss: 1.097\n",
            "[3,  8000] loss: 1.072\n",
            "[3, 10000] loss: 1.050\n",
            "[3, 12000] loss: 1.052\n",
            "[4,  2000] loss: 0.946\n",
            "[4,  4000] loss: 0.944\n",
            "[4,  6000] loss: 0.930\n",
            "[4,  8000] loss: 0.930\n",
            "[4, 10000] loss: 0.913\n",
            "[4, 12000] loss: 0.890\n",
            "[5,  2000] loss: 0.800\n",
            "[5,  4000] loss: 0.819\n",
            "[5,  6000] loss: 0.789\n",
            "[5,  8000] loss: 0.812\n",
            "[5, 10000] loss: 0.795\n",
            "[5, 12000] loss: 0.813\n",
            "[6,  2000] loss: 0.677\n",
            "[6,  4000] loss: 0.692\n",
            "[6,  6000] loss: 0.695\n",
            "[6,  8000] loss: 0.710\n",
            "[6, 10000] loss: 0.693\n",
            "[6, 12000] loss: 0.720\n",
            "[7,  2000] loss: 0.563\n",
            "[7,  4000] loss: 0.604\n",
            "[7,  6000] loss: 0.612\n",
            "[7,  8000] loss: 0.636\n",
            "[7, 10000] loss: 0.621\n",
            "[7, 12000] loss: 0.623\n",
            "[8,  2000] loss: 0.480\n",
            "[8,  4000] loss: 0.507\n",
            "[8,  6000] loss: 0.526\n",
            "[8,  8000] loss: 0.541\n",
            "[8, 10000] loss: 0.573\n",
            "[8, 12000] loss: 0.553\n",
            "[9,  2000] loss: 0.404\n",
            "[9,  4000] loss: 0.458\n",
            "[9,  6000] loss: 0.485\n",
            "[9,  8000] loss: 0.474\n",
            "[9, 10000] loss: 0.497\n",
            "[9, 12000] loss: 0.510\n",
            "[10,  2000] loss: 0.335\n",
            "[10,  4000] loss: 0.405\n",
            "[10,  6000] loss: 0.450\n",
            "[10,  8000] loss: 0.448\n",
            "[10, 10000] loss: 0.488\n",
            "[10, 12000] loss: 0.492\n",
            "Finished Training\n"
          ]
        }
      ],
      "source": [
        "for epoch in range(10):  # loop over the dataset multiple times\n",
        "\n",
        "    running_loss = 0.0\n",
        "    for i, data in enumerate(trainloader, 0):\n",
        "        # get the inputs; data is a list of [inputs, labels]\n",
        "        inputs, labels = data\n",
        "\n",
        "        # Move inputs and labels to the device\n",
        "        inputs, labels = inputs.to(device), labels.to(device)\n",
        "\n",
        "        # zero the parameter gradients\n",
        "        optimizer.zero_grad()\n",
        "\n",
        "        # forward + backward + optimize\n",
        "        outputs = net(inputs)\n",
        "        loss = criterion(outputs, labels)\n",
        "        loss.backward()\n",
        "        optimizer.step()\n",
        "\n",
        "        # print statistics\n",
        "        running_loss += loss.item()\n",
        "        if i % 2000 == 1999:    # print every 2000 mini-batches\n",
        "            print('[%d, %5d] loss: %.3f' %\n",
        "                  (epoch + 1, i + 1, running_loss / 2000))\n",
        "            running_loss = 0.0\n",
        "\n",
        "print('Finished Training')"
      ]
    },
    {
      "cell_type": "markdown",
      "metadata": {
        "id": "kiGvC6msRKpz"
      },
      "source": [
        "5. Test the network on the test data\n",
        "^^^^^^^^^^^^^^^^^^^^^^^^^^^^^^^^^^^^\n",
        "\n",
        "We have trained the network for 2 passes over the training dataset.\n",
        "But we need to check if the network has learnt anything at all.\n",
        "\n",
        "We will check this by predicting the class label that the neural network\n",
        "outputs, and checking it against the ground-truth. If the prediction is\n",
        "correct, we add the sample to the list of correct predictions.\n",
        "\n",
        "Okay, first step. Let us display an image from the test set to get familiar.\n",
        "\n"
      ]
    },
    {
      "cell_type": "code",
      "execution_count": 17,
      "metadata": {
        "id": "fDu8CQC1RKpz",
        "colab": {
          "base_uri": "https://localhost:8080/",
          "height": 211
        },
        "outputId": "11c1d61f-49c3-4d13-d70e-9966f0d12e41"
      },
      "outputs": [
        {
          "output_type": "stream",
          "name": "stdout",
          "text": [
            "GroundTruth:    cat  ship  ship plane\n"
          ]
        },
        {
          "output_type": "display_data",
          "data": {
            "text/plain": [
              "<Figure size 640x480 with 1 Axes>"
            ],
            "image/png": "[encoded data removed]"
          },
          "metadata": {}
        }
      ],
      "source": [
        "dataiter = iter(testloader)\n",
        "images, labels = next(dataiter)\n",
        "\n",
        "# print images\n",
        "imshow(torchvision.utils.make_grid(images))\n",
        "print('GroundTruth: ', ' '.join('%5s' % classes[labels[j]] for j in range(4)))"
      ]
    },
    {
      "cell_type": "markdown",
      "metadata": {
        "id": "Mg3v9PY7RKpz"
      },
      "source": [
        "Okay, now let us see what the neural network thinks these examples above are:\n",
        "\n"
      ]
    },
    {
      "cell_type": "code",
      "execution_count": 18,
      "metadata": {
        "id": "B2dOHBKWRKpz"
      },
      "outputs": [],
      "source": [
        "images = images.to(device)\n",
        "outputs = net(images)"
      ]
    },
    {
      "cell_type": "markdown",
      "metadata": {
        "id": "EYvMQFfKRKpz"
      },
      "source": [
        "The outputs are energies for the 10 classes.\n",
        "Higher the energy for a class, the more the network\n",
        "thinks that the image is of the particular class.\n",
        "So, let's get the index of the highest energy:\n",
        "\n"
      ]
    },
    {
      "cell_type": "code",
      "execution_count": 19,
      "metadata": {
        "id": "T3CP2c1ZRKpz",
        "colab": {
          "base_uri": "https://localhost:8080/"
        },
        "outputId": "a9867715-0422-4954-a9d6-5a85368b05a6"
      },
      "outputs": [
        {
          "output_type": "stream",
          "name": "stdout",
          "text": [
            "Predicted:    cat  ship plane  ship\n"
          ]
        }
      ],
      "source": [
        "_, predicted = torch.max(outputs, 1)\n",
        "\n",
        "print('Predicted: ', ' '.join('%5s' % classes[predicted[j]]\n",
        "                              for j in range(4)))"
      ]
    },
    {
      "cell_type": "markdown",
      "metadata": {
        "id": "IS5fxOv0RKp0"
      },
      "source": [
        "The results seem pretty good.\n",
        "\n",
        "Let us look at how the network performs on the whole dataset.\n",
        "\n"
      ]
    },
    {
      "cell_type": "code",
      "execution_count": 20,
      "metadata": {
        "id": "Rr4Mmz2MRKp0",
        "colab": {
          "base_uri": "https://localhost:8080/"
        },
        "outputId": "f600a308-1392-4bb8-8714-7b8b2d653d97"
      },
      "outputs": [
        {
          "output_type": "stream",
          "name": "stdout",
          "text": [
            "Accuracy of the network on the 10000 test images: 73 %\n"
          ]
        }
      ],
      "source": [
        "correct = 0\n",
        "total = 0\n",
        "with torch.no_grad():\n",
        "    for data in testloader:\n",
        "        images, labels = data\n",
        "        images = images.to(device)\n",
        "        labels = labels.to(device)\n",
        "        outputs = net(images)\n",
        "        _, predicted = torch.max(outputs.data, 1)\n",
        "        total += labels.size(0)\n",
        "        correct += (predicted == labels).sum().item()\n",
        "\n",
        "print('Accuracy of the network on the 10000 test images: %d %%' % (\n",
        "    100 * correct / total))"
      ]
    },
    {
      "cell_type": "markdown",
      "metadata": {
        "id": "fE746F4jRKp0"
      },
      "source": [
        "That looks waaay better than chance, which is 10% accuracy (randomly picking\n",
        "a class out of 10 classes).\n",
        "Seems like the network learnt something.\n",
        "\n",
        "Hmmm, what are the classes that performed well, and the classes that did\n",
        "not perform well:\n",
        "\n"
      ]
    },
    {
      "cell_type": "code",
      "execution_count": 21,
      "metadata": {
        "id": "VNO18nG7RKp0",
        "colab": {
          "base_uri": "https://localhost:8080/"
        },
        "outputId": "f8af7840-3bba-4be3-a93e-595354583a46"
      },
      "outputs": [
        {
          "output_type": "stream",
          "name": "stdout",
          "text": [
            "Accuracy of plane : 71 %\n",
            "Accuracy of   car : 75 %\n",
            "Accuracy of  bird : 63 %\n",
            "Accuracy of   cat : 53 %\n",
            "Accuracy of  deer : 61 %\n",
            "Accuracy of   dog : 70 %\n",
            "Accuracy of  frog : 81 %\n",
            "Accuracy of horse : 77 %\n",
            "Accuracy of  ship : 86 %\n",
            "Accuracy of truck : 89 %\n"
          ]
        }
      ],
      "source": [
        "class_correct = list(0. for i in range(10))\n",
        "class_total = list(0. for i in range(10))\n",
        "with torch.no_grad():\n",
        "    for data in testloader:\n",
        "        images, labels = data\n",
        "        images = images.to(device)\n",
        "        labels = labels.to(device)\n",
        "        outputs = net(images)\n",
        "        _, predicted = torch.max(outputs, 1)\n",
        "        c = (predicted == labels).squeeze()\n",
        "        for i in range(4):\n",
        "            label = labels[i]\n",
        "            class_correct[label] += c[i].item()\n",
        "            class_total[label] += 1\n",
        "\n",
        "\n",
        "for i in range(10):\n",
        "    print('Accuracy of %5s : %2d %%' % (\n",
        "        classes[i], 100 * class_correct[i] / class_total[i]))"
      ]
    },
    {
      "cell_type": "markdown",
      "metadata": {
        "id": "Jr4TWP2LRKp0"
      },
      "source": [
        "Okay, so what next?\n",
        "\n",
        "How do we run these neural networks on the GPU?\n",
        "\n",
        "Training on GPU\n",
        "----------------\n",
        "Just like how you transfer a Tensor on to the GPU, you transfer the neural\n",
        "net onto the GPU.\n",
        "\n",
        "Let's first define our device as the first visible cuda device if we have\n",
        "CUDA available:\n",
        "\n"
      ]
    },
    {
      "cell_type": "code",
      "execution_count": null,
      "metadata": {
        "id": "W3oSV8_vRKp0"
      },
      "outputs": [],
      "source": [
        "device = torch.device(\"cuda:0\" if torch.cuda.is_available() else \"cpu\")\n",
        "\n",
        "# Assume that we are on a CUDA machine, then this should print a CUDA device:\n",
        "\n",
        "print(device)"
      ]
    },
    {
      "cell_type": "markdown",
      "metadata": {
        "id": "6yTopKXBRKp0"
      },
      "source": [
        "The rest of this section assumes that `device` is a CUDA device.\n",
        "\n",
        "Then these methods will recursively go over all modules and convert their\n",
        "parameters and buffers to CUDA tensors:\n",
        "\n",
        ".. code:: python\n",
        "\n",
        "    net.to(device)\n",
        "\n",
        "\n",
        "Remember that you will have to send the inputs and targets at every step\n",
        "to the GPU too:\n",
        "\n",
        ".. code:: python\n",
        "\n",
        "        inputs, labels = inputs.to(device), labels.to(device)\n",
        "\n",
        "Why dont I notice MASSIVE speedup compared to CPU? Because your network\n",
        "is realllly small.\n",
        "\n",
        "**Exercise:** Try increasing the width of your network (argument 2 of\n",
        "the first ``nn.Conv2d``, and argument 1 of the second ``nn.Conv2d`` –\n",
        "they need to be the same number), see what kind of speedup you get.\n",
        "\n",
        "**Goals achieved**:\n",
        "\n",
        "- Understanding PyTorch's Tensor library and neural networks at a high level.\n",
        "- Train a small neural network to classify images\n",
        "\n",
        "Training on multiple GPUs\n",
        "-------------------------\n",
        "If you want to see even more MASSIVE speedup using all of your GPUs,\n",
        "please check out :doc:`data_parallel_tutorial`.\n",
        "\n",
        "Where do I go next?\n",
        "-------------------\n",
        "\n",
        "-  :doc:`Train neural nets to play video games </intermediate/reinforcement_q_learning>`\n",
        "-  `Train a state-of-the-art ResNet network on imagenet`_\n",
        "-  `Train a face generator using Generative Adversarial Networks`_\n",
        "-  `Train a word-level language model using Recurrent LSTM networks`_\n",
        "-  `More examples`_\n",
        "-  `More tutorials`_\n",
        "-  `Discuss PyTorch on the Forums`_\n",
        "-  `Chat with other users on Slack`_\n",
        "\n",
        "\n"
      ]
    }
  ],
  "metadata": {
    "kernelspec": {
      "display_name": "Python 3",
      "name": "python3"
    },
    "language_info": {
      "codemirror_mode": {
        "name": "ipython",
        "version": 3
      },
      "file_extension": ".py",
      "mimetype": "text/x-python",
      "name": "python",
      "nbconvert_exporter": "python",
      "pygments_lexer": "ipython3",
      "version": "3.6.6"
    },
    "colab": {
      "provenance": [],
      "gpuType": "T4"
    },
    "accelerator": "GPU"
  },
  "nbformat": 4,
  "nbformat_minor": 0
}