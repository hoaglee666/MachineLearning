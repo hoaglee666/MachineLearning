{
  "cells": [
    {
      "cell_type": "code",
      "execution_count": 1,
      "metadata": {
        "id": "M0ChYPGuRKpq"
      },
      "outputs": [],
      "source": [
        "%matplotlib inline"
      ]
    },
    {
      "cell_type": "markdown",
      "metadata": {
        "id": "VmlPjiluRKpt"
      },
      "source": [
        "\n",
        "Training a Classifier\n",
        "=====================\n",
        "\n",
        "This is it. You have seen how to define neural networks, compute loss and make\n",
        "updates to the weights of the network.\n",
        "\n",
        "Now you might be thinking,\n",
        "\n",
        "What about data?\n",
        "----------------\n",
        "\n",
        "Generally, when you have to deal with image, text, audio or video data,\n",
        "you can use standard python packages that load data into a numpy array.\n",
        "Then you can convert this array into a ``torch.*Tensor``.\n",
        "\n",
        "-  For images, packages such as Pillow, OpenCV are useful\n",
        "-  For audio, packages such as scipy and librosa\n",
        "-  For text, either raw Python or Cython based loading, or NLTK and\n",
        "   SpaCy are useful\n",
        "\n",
        "Specifically for vision, we have created a package called\n",
        "``torchvision``, that has data loaders for common datasets such as\n",
        "Imagenet, CIFAR10, MNIST, etc. and data transformers for images, viz.,\n",
        "``torchvision.datasets`` and ``torch.utils.data.DataLoader``.\n",
        "\n",
        "This provides a huge convenience and avoids writing boilerplate code.\n",
        "\n",
        "For this tutorial, we will use the CIFAR10 dataset.\n",
        "It has the classes: ‘airplane’, ‘automobile’, ‘bird’, ‘cat’, ‘deer’,\n",
        "‘dog’, ‘frog’, ‘horse’, ‘ship’, ‘truck’. The images in CIFAR-10 are of\n",
        "size 3x32x32, i.e. 3-channel color images of 32x32 pixels in size.\n",
        "\n",
        ".. figure:: /_static/img/cifar10.png\n",
        "   :alt: cifar10\n",
        "\n",
        "   cifar10\n",
        "\n",
        "\n",
        "Training an image classifier\n",
        "----------------------------\n",
        "\n",
        "We will do the following steps in order:\n",
        "\n",
        "1. Load and normalizing the CIFAR10 training and test datasets using\n",
        "   ``torchvision``\n",
        "2. Define a Convolution Neural Network\n",
        "3. Define a loss function\n",
        "4. Train the network on the training data\n",
        "5. Test the network on the test data\n",
        "\n",
        "1. Loading and normalizing CIFAR10\n",
        "^^^^^^^^^^^^^^^^^^^^^^^^^^^^^^^^^^\n",
        "\n",
        "Using ``torchvision``, it’s extremely easy to load CIFAR10.\n",
        "\n"
      ]
    },
    {
      "cell_type": "code",
      "execution_count": 2,
      "metadata": {
        "colab": {
          "base_uri": "https://localhost:8080/"
        },
        "id": "x8P4A47KRKpw",
        "outputId": "c8dbe912-4ea9-40aa-9e92-25b32f1a24a4"
      },
      "outputs": [
        {
          "output_type": "stream",
          "name": "stdout",
          "text": [
            "cuda:0\n"
          ]
        }
      ],
      "source": [
        "import torch\n",
        "import torchvision\n",
        "import torchvision.transforms as transforms\n",
        "\n",
        "device = torch.device(\"cuda:0\" if torch.cuda.is_available() else \"cpu\")\n",
        "\n",
        "# Assume that we are on a CUDA machine, then this should print a CUDA device:\n",
        "\n",
        "print(device)"
      ]
    },
    {
      "cell_type": "markdown",
      "metadata": {
        "id": "N-QijpJWRKpw"
      },
      "source": [
        "The output of torchvision datasets are PILImage images of range [0, 1].\n",
        "We transform them to Tensors of normalized range [-1, 1].\n",
        "\n"
      ]
    },
    {
      "cell_type": "code",
      "execution_count": 3,
      "metadata": {
        "colab": {
          "base_uri": "https://localhost:8080/"
        },
        "id": "sK7oWlNrRKpx",
        "outputId": "bf71c8b9-976a-4681-a6d8-eebad6c11314"
      },
      "outputs": [
        {
          "output_type": "stream",
          "name": "stderr",
          "text": [
            "100%|██████████| 170M/170M [00:13<00:00, 12.7MB/s]\n"
          ]
        }
      ],
      "source": [
        "transform = transforms.Compose(\n",
        "    [transforms.ToTensor(),\n",
        "     transforms.Normalize((0.5, 0.5, 0.5), (0.5, 0.5, 0.5))])\n",
        "\n",
        "trainset = torchvision.datasets.CIFAR10(root='./data', train=True,\n",
        "                                        download=True, transform=transform)\n",
        "trainloader = torch.utils.data.DataLoader(trainset, batch_size=4,\n",
        "                                          shuffle=True, num_workers=2)\n",
        "\n",
        "testset = torchvision.datasets.CIFAR10(root='./data', train=False,\n",
        "                                       download=True, transform=transform)\n",
        "testloader = torch.utils.data.DataLoader(testset, batch_size=4,\n",
        "                                         shuffle=False, num_workers=2)\n",
        "\n",
        "classes = ('plane', 'car', 'bird', 'cat',\n",
        "           'deer', 'dog', 'frog', 'horse', 'ship', 'truck')"
      ]
    },
    {
      "cell_type": "markdown",
      "metadata": {
        "id": "LgFmfYLuRKpx"
      },
      "source": [
        "Let us show some of the training images, for fun.\n",
        "\n"
      ]
    },
    {
      "cell_type": "code",
      "execution_count": 4,
      "metadata": {
        "colab": {
          "base_uri": "https://localhost:8080/",
          "height": 211
        },
        "id": "Pkv6tEgORKpx",
        "outputId": "70473870-e0f3-4c4b-d3e4-38d46f8ed617"
      },
      "outputs": [
        {
          "output_type": "stream",
          "name": "stdout",
          "text": [
            " deer   car  ship  ship\n"
          ]
        },
        {
          "output_type": "display_data",
          "data": {
            "text/plain": [
              "<Figure size 640x480 with 1 Axes>"
            ],
            "image/png": "[encoded data removed]"
          },
          "metadata": {}
        }
      ],
      "source": [
        "import matplotlib.pyplot as plt\n",
        "import numpy as np\n",
        "\n",
        "# functions to show an image\n",
        "\n",
        "\n",
        "def imshow(img):\n",
        "    img = img / 2 + 0.5     # unnormalize\n",
        "    npimg = img.numpy()\n",
        "    plt.imshow(np.transpose(npimg, (1, 2, 0)))\n",
        "\n",
        "\n",
        "# get some random training images\n",
        "dataiter = iter(trainloader)\n",
        "images, labels = next(dataiter)\n",
        "\n",
        "# show images\n",
        "imshow(torchvision.utils.make_grid(images))\n",
        "# print labels\n",
        "print(' '.join('%5s' % classes[labels[j]] for j in range(4)))"
      ]
    },
    {
      "cell_type": "markdown",
      "metadata": {
        "id": "2wT3ZZvLRKpy"
      },
      "source": [
        "2. Define a Convolution Neural Network\n",
        "^^^^^^^^^^^^^^^^^^^^^^^^^^^^^^^^^^^^^^\n",
        "Copy the neural network from the Neural Networks section before and modify it to\n",
        "take 3-channel images (instead of 1-channel images as it was defined).\n",
        "\n"
      ]
    },
    {
      "cell_type": "code",
      "execution_count": 5,
      "metadata": {
        "colab": {
          "base_uri": "https://localhost:8080/"
        },
        "id": "VoQiEXcbRKpy",
        "outputId": "2324d1cb-8af9-49d6-916b-81d1878207b3"
      },
      "outputs": [
        {
          "output_type": "stream",
          "name": "stdout",
          "text": [
            "Net(\n",
            "  (conv1): Conv2d(3, 16, kernel_size=(3, 3), stride=(1, 1), padding=(1, 1))\n",
            "  (conv2): Conv2d(16, 64, kernel_size=(3, 3), stride=(1, 1))\n",
            "  (conv3): Conv2d(3, 64, kernel_size=(3, 3), stride=(1, 1))\n",
            "  (pool): MaxPool2d(kernel_size=3, stride=1, padding=0, dilation=1, ceil_mode=False)\n",
            "  (conv4): Conv2d(64, 128, kernel_size=(3, 3), stride=(1, 1))\n",
            "  (conv5): Conv2d(64, 64, kernel_size=(3, 3), stride=(1, 1))\n",
            "  (conv6): Conv2d(192, 192, kernel_size=(3, 3), stride=(2, 2), padding=(1, 1))\n",
            "  (conv7): Conv2d(192, 256, kernel_size=(3, 3), stride=(1, 1))\n",
            "  (conv8): Conv2d(192, 192, kernel_size=(3, 3), stride=(2, 2))\n",
            "  (conv9): Conv2d(192, 192, kernel_size=(3, 3), stride=(2, 2))\n",
            "  (conv10): Conv2d(448, 512, kernel_size=(3, 3), stride=(2, 2))\n",
            "  (fc1): Linear(in_features=12800, out_features=120, bias=True)\n",
            "  (fc2): Linear(in_features=120, out_features=10, bias=True)\n",
            ")\n",
            "----------------------------------------------------------------\n",
            "        Layer (type)               Output Shape         Param #\n",
            "================================================================\n",
            "            Conv2d-1           [-1, 16, 32, 32]             448\n",
            "            Conv2d-2           [-1, 64, 30, 30]           1,792\n",
            "            Conv2d-3           [-1, 64, 30, 30]           9,280\n",
            "            Conv2d-4          [-1, 128, 28, 28]          73,856\n",
            "            Conv2d-5           [-1, 64, 28, 28]          36,928\n",
            "         MaxPool2d-6          [-1, 192, 26, 26]               0\n",
            "            Conv2d-7          [-1, 192, 14, 14]         331,968\n",
            "            Conv2d-8          [-1, 256, 12, 12]         442,624\n",
            "            Conv2d-9          [-1, 192, 12, 12]         331,968\n",
            "           Conv2d-10          [-1, 192, 12, 12]         331,968\n",
            "           Conv2d-11            [-1, 512, 5, 5]       2,064,896\n",
            "           Linear-12                  [-1, 120]       1,536,120\n",
            "           Linear-13                   [-1, 10]           1,210\n",
            "================================================================\n",
            "Total params: 5,163,058\n",
            "Trainable params: 5,163,058\n",
            "Non-trainable params: 0\n",
            "----------------------------------------------------------------\n",
            "Input size (MB): 0.01\n",
            "Forward/backward pass size (MB): 4.23\n",
            "Params size (MB): 19.70\n",
            "Estimated Total Size (MB): 23.94\n",
            "----------------------------------------------------------------\n"
          ]
        }
      ],
      "source": [
        "import torch.nn as nn\n",
        "import torch.nn.functional as F\n",
        "\n",
        "\n",
        "class Net(nn.Module):\n",
        "    def __init__(self):\n",
        "        super(Net, self).__init__()\n",
        "        self.conv1 = nn.Conv2d(3, 16, 3, 1, 1)\n",
        "        self.conv2 = nn.Conv2d(16, 64, 3, 1, 0)\n",
        "        self.conv3 = nn.Conv2d(3, 64, 3, 1, 0)\n",
        "        self.pool = nn.MaxPool2d(3, 1, 0)\n",
        "        self.conv4 = nn.Conv2d(64, 128, 3, 1, 0)\n",
        "        self.conv5 = nn.Conv2d(64, 64, 3, 1, 0)\n",
        "        self.conv6 = nn.Conv2d(192, 192, 3, 2, 1)\n",
        "        self.conv7 = nn.Conv2d(192, 256, 3, 1, 0)\n",
        "        self.conv8 = nn.Conv2d(192, 192, 3, 2, 0)\n",
        "        self.conv9 = nn.Conv2d(192, 192, 3, 2, 0)\n",
        "        self.conv10 = nn.Conv2d(448, 512, 3, 2, 0)\n",
        "        self.fc1 = nn.Linear(512 * 5 * 5, 120)\n",
        "        self.fc2 = nn.Linear(120, 10)\n",
        "\n",
        "    def forward(self, x):\n",
        "        x1 = F.relu(self.conv1(x))\n",
        "        x2 = F.relu(self.conv3(x))\n",
        "        x1 = F.relu(self.conv2(x1))\n",
        "        x = x1 + x2\n",
        "        x2 = F.relu(self.conv4(x2))\n",
        "        x = F.relu(self.conv5(x))\n",
        "        x = torch.cat((x, x2), dim=1)\n",
        "        x1 = self.pool(x)\n",
        "        x2 = F.relu(self.conv6(x))\n",
        "        x2 = F.relu(self.conv7(x2))\n",
        "        x3 = F.relu(self.conv8(x1))\n",
        "        x4 = F.relu(self.conv9(x1))\n",
        "        x = x3 + x4\n",
        "        x = torch.cat((x, x2), dim=1)\n",
        "        x = F.relu(self.conv10(x))\n",
        "        x = x.view(-1, 512 * 5 * 5)\n",
        "        x = F.relu(self.fc1(x))\n",
        "        x = self.fc2(x)\n",
        "        return x\n",
        "\n",
        "\n",
        "model = Net()\n",
        "from torchsummary import summary\n",
        "net = model.to(device)\n",
        "print(net)\n",
        "summary(net, input_size=(3, 32, 32))"
      ]
    },
    {
      "cell_type": "markdown",
      "metadata": {
        "id": "L87Ma3GfRKpy"
      },
      "source": [
        "3. Define a Loss function and optimizer\n",
        "^^^^^^^^^^^^^^^^^^^^^^^^^^^^^^^^^^^^^^^\n",
        "Let's use a Classification Cross-Entropy loss and SGD with momentum.\n",
        "\n"
      ]
    },
    {
      "cell_type": "code",
      "execution_count": 7,
      "metadata": {
        "id": "yNywhNjzRKpy"
      },
      "outputs": [],
      "source": [
        "import torch.optim as optim\n",
        "\n",
        "criterion = nn.CrossEntropyLoss()\n",
        "optimizer = optim.SGD(net.parameters(), lr=0.001, momentum=0.9)"
      ]
    },
    {
      "cell_type": "markdown",
      "metadata": {
        "id": "cIX6LZn8RKpy"
      },
      "source": [
        "4. Train the network\n",
        "^^^^^^^^^^^^^^^^^^^^\n",
        "\n",
        "This is when things start to get interesting.\n",
        "We simply have to loop over our data iterator, and feed the inputs to the\n",
        "network and optimize.\n",
        "\n"
      ]
    },
    {
      "cell_type": "code",
      "execution_count": 8,
      "metadata": {
        "id": "hkqS9KZfRKpz",
        "colab": {
          "base_uri": "https://localhost:8080/"
        },
        "collapsed": true,
        "outputId": "a67ee23a-13aa-4114-e2b4-e3b2d58cbea7"
      },
      "outputs": [
        {
          "output_type": "stream",
          "name": "stdout",
          "text": [
            "[1,  2000] loss: 2.120\n",
            "[1,  4000] loss: 1.728\n",
            "[1,  6000] loss: 1.554\n",
            "[1,  8000] loss: 1.456\n",
            "[1, 10000] loss: 1.355\n",
            "[1, 12000] loss: 1.292\n",
            "[2,  2000] loss: 1.202\n",
            "[2,  4000] loss: 1.123\n",
            "[2,  6000] loss: 1.054\n",
            "[2,  8000] loss: 1.034\n",
            "[2, 10000] loss: 0.984\n",
            "[2, 12000] loss: 0.946\n",
            "[3,  2000] loss: 0.855\n",
            "[3,  4000] loss: 0.833\n",
            "[3,  6000] loss: 0.812\n",
            "[3,  8000] loss: 0.800\n",
            "[3, 10000] loss: 0.812\n",
            "[3, 12000] loss: 0.767\n",
            "[4,  2000] loss: 0.624\n",
            "[4,  4000] loss: 0.644\n",
            "[4,  6000] loss: 0.656\n",
            "[4,  8000] loss: 0.641\n",
            "[4, 10000] loss: 0.638\n",
            "[4, 12000] loss: 0.656\n",
            "[5,  2000] loss: 0.459\n",
            "[5,  4000] loss: 0.502\n",
            "[5,  6000] loss: 0.506\n",
            "[5,  8000] loss: 0.509\n",
            "[5, 10000] loss: 0.512\n",
            "[5, 12000] loss: 0.526\n",
            "[6,  2000] loss: 0.316\n",
            "[6,  4000] loss: 0.348\n",
            "[6,  6000] loss: 0.353\n",
            "[6,  8000] loss: 0.391\n",
            "[6, 10000] loss: 0.403\n",
            "[6, 12000] loss: 0.408\n",
            "[7,  2000] loss: 0.208\n",
            "[7,  4000] loss: 0.249\n",
            "[7,  6000] loss: 0.289\n",
            "[7,  8000] loss: 0.285\n",
            "[7, 10000] loss: 0.298\n",
            "[7, 12000] loss: 0.281\n",
            "[8,  2000] loss: 0.150\n",
            "[8,  4000] loss: 0.195\n",
            "[8,  6000] loss: 0.206\n",
            "[8,  8000] loss: 0.222\n",
            "[8, 10000] loss: 0.229\n",
            "[8, 12000] loss: 0.251\n",
            "[9,  2000] loss: 0.119\n",
            "[9,  4000] loss: 0.128\n",
            "[9,  6000] loss: 0.184\n",
            "[9,  8000] loss: 0.193\n",
            "[9, 10000] loss: 0.186\n",
            "[9, 12000] loss: 0.197\n",
            "[10,  2000] loss: 0.112\n",
            "[10,  4000] loss: 0.132\n",
            "[10,  6000] loss: 0.147\n",
            "[10,  8000] loss: 0.143\n",
            "[10, 10000] loss: 0.161\n",
            "[10, 12000] loss: 0.160\n",
            "Finished Training\n"
          ]
        }
      ],
      "source": [
        "for epoch in range(10):  # loop over the dataset multiple times\n",
        "\n",
        "    running_loss = 0.0\n",
        "    for i, data in enumerate(trainloader, 0):\n",
        "        # get the inputs; data is a list of [inputs, labels]\n",
        "        inputs, labels = data\n",
        "\n",
        "        # Move inputs and labels to the device\n",
        "        inputs, labels = inputs.to(device), labels.to(device)\n",
        "\n",
        "        # zero the parameter gradients\n",
        "        optimizer.zero_grad()\n",
        "\n",
        "        # forward + backward + optimize\n",
        "        outputs = net(inputs)\n",
        "        loss = criterion(outputs, labels)\n",
        "        loss.backward()\n",
        "        optimizer.step()\n",
        "\n",
        "        # print statistics\n",
        "        running_loss += loss.item()\n",
        "        if i % 2000 == 1999:    # print every 2000 mini-batches\n",
        "            print('[%d, %5d] loss: %.3f' %\n",
        "                  (epoch + 1, i + 1, running_loss / 2000))\n",
        "            running_loss = 0.0\n",
        "\n",
        "print('Finished Training')"
      ]
    },
    {
      "cell_type": "markdown",
      "metadata": {
        "id": "kiGvC6msRKpz"
      },
      "source": [
        "5. Test the network on the test data\n",
        "^^^^^^^^^^^^^^^^^^^^^^^^^^^^^^^^^^^^\n",
        "\n",
        "We have trained the network for 2 passes over the training dataset.\n",
        "But we need to check if the network has learnt anything at all.\n",
        "\n",
        "We will check this by predicting the class label that the neural network\n",
        "outputs, and checking it against the ground-truth. If the prediction is\n",
        "correct, we add the sample to the list of correct predictions.\n",
        "\n",
        "Okay, first step. Let us display an image from the test set to get familiar.\n",
        "\n"
      ]
    },
    {
      "cell_type": "code",
      "execution_count": 9,
      "metadata": {
        "id": "fDu8CQC1RKpz",
        "colab": {
          "base_uri": "https://localhost:8080/",
          "height": 211
        },
        "outputId": "56bbbfc1-47fe-4d42-dc93-ab5b49dbe32e"
      },
      "outputs": [
        {
          "output_type": "stream",
          "name": "stdout",
          "text": [
            "GroundTruth:    cat  ship  ship plane\n"
          ]
        },
        {
          "output_type": "display_data",
          "data": {
            "text/plain": [
              "<Figure size 640x480 with 1 Axes>"
            ],
            "image/png": "[encoded data removed]"
          },
          "metadata": {}
        }
      ],
      "source": [
        "dataiter = iter(testloader)\n",
        "images, labels = next(dataiter)\n",
        "\n",
        "# print images\n",
        "imshow(torchvision.utils.make_grid(images))\n",
        "print('GroundTruth: ', ' '.join('%5s' % classes[labels[j]] for j in range(4)))"
      ]
    },
    {
      "cell_type": "markdown",
      "metadata": {
        "id": "Mg3v9PY7RKpz"
      },
      "source": [
        "Okay, now let us see what the neural network thinks these examples above are:\n",
        "\n"
      ]
    },
    {
      "cell_type": "code",
      "execution_count": 10,
      "metadata": {
        "id": "B2dOHBKWRKpz"
      },
      "outputs": [],
      "source": [
        "images = images.to(device)\n",
        "outputs = net(images)"
      ]
    },
    {
      "cell_type": "markdown",
      "metadata": {
        "id": "EYvMQFfKRKpz"
      },
      "source": [
        "The outputs are energies for the 10 classes.\n",
        "Higher the energy for a class, the more the network\n",
        "thinks that the image is of the particular class.\n",
        "So, let's get the index of the highest energy:\n",
        "\n"
      ]
    },
    {
      "cell_type": "code",
      "execution_count": 11,
      "metadata": {
        "id": "T3CP2c1ZRKpz",
        "colab": {
          "base_uri": "https://localhost:8080/"
        },
        "outputId": "38375d86-86a6-4384-85dd-8d625aa09178"
      },
      "outputs": [
        {
          "output_type": "stream",
          "name": "stdout",
          "text": [
            "Predicted:    cat  ship  ship plane\n"
          ]
        }
      ],
      "source": [
        "_, predicted = torch.max(outputs, 1)\n",
        "\n",
        "print('Predicted: ', ' '.join('%5s' % classes[predicted[j]]\n",
        "                              for j in range(4)))"
      ]
    },
    {
      "cell_type": "markdown",
      "metadata": {
        "id": "IS5fxOv0RKp0"
      },
      "source": [
        "The results seem pretty good.\n",
        "\n",
        "Let us look at how the network performs on the whole dataset.\n",
        "\n"
      ]
    },
    {
      "cell_type": "code",
      "execution_count": 12,
      "metadata": {
        "id": "Rr4Mmz2MRKp0",
        "colab": {
          "base_uri": "https://localhost:8080/"
        },
        "outputId": "edf34c25-6f1d-4759-e99f-e0a9119d40c1"
      },
      "outputs": [
        {
          "output_type": "stream",
          "name": "stdout",
          "text": [
            "Accuracy of the network on the 10000 test images: 73 %\n"
          ]
        }
      ],
      "source": [
        "correct = 0\n",
        "total = 0\n",
        "with torch.no_grad():\n",
        "    for data in testloader:\n",
        "        images, labels = data\n",
        "        images = images.to(device)\n",
        "        labels = labels.to(device)\n",
        "        outputs = net(images)\n",
        "        _, predicted = torch.max(outputs.data, 1)\n",
        "        total += labels.size(0)\n",
        "        correct += (predicted == labels).sum().item()\n",
        "\n",
        "print('Accuracy of the network on the 10000 test images: %d %%' % (\n",
        "    100 * correct / total))"
      ]
    },
    {
      "cell_type": "markdown",
      "metadata": {
        "id": "fE746F4jRKp0"
      },
      "source": [
        "That looks waaay better than chance, which is 10% accuracy (randomly picking\n",
        "a class out of 10 classes).\n",
        "Seems like the network learnt something.\n",
        "\n",
        "Hmmm, what are the classes that performed well, and the classes that did\n",
        "not perform well:\n",
        "\n"
      ]
    },
    {
      "cell_type": "code",
      "execution_count": 13,
      "metadata": {
        "id": "VNO18nG7RKp0",
        "colab": {
          "base_uri": "https://localhost:8080/"
        },
        "outputId": "8a253f2b-7168-4835-b9c3-8c674d81c5e6"
      },
      "outputs": [
        {
          "output_type": "stream",
          "name": "stdout",
          "text": [
            "Accuracy of plane : 74 %\n",
            "Accuracy of   car : 87 %\n",
            "Accuracy of  bird : 67 %\n",
            "Accuracy of   cat : 53 %\n",
            "Accuracy of  deer : 79 %\n",
            "Accuracy of   dog : 59 %\n",
            "Accuracy of  frog : 81 %\n",
            "Accuracy of horse : 72 %\n",
            "Accuracy of  ship : 77 %\n",
            "Accuracy of truck : 78 %\n"
          ]
        }
      ],
      "source": [
        "class_correct = list(0. for i in range(10))\n",
        "class_total = list(0. for i in range(10))\n",
        "with torch.no_grad():\n",
        "    for data in testloader:\n",
        "        images, labels = data\n",
        "        images = images.to(device)\n",
        "        labels = labels.to(device)\n",
        "        outputs = net(images)\n",
        "        _, predicted = torch.max(outputs, 1)\n",
        "        c = (predicted == labels).squeeze()\n",
        "        for i in range(4):\n",
        "            label = labels[i]\n",
        "            class_correct[label] += c[i].item()\n",
        "            class_total[label] += 1\n",
        "\n",
        "\n",
        "for i in range(10):\n",
        "    print('Accuracy of %5s : %2d %%' % (\n",
        "        classes[i], 100 * class_correct[i] / class_total[i]))"
      ]
    },
    {
      "cell_type": "markdown",
      "metadata": {
        "id": "Jr4TWP2LRKp0"
      },
      "source": [
        "Okay, so what next?\n",
        "\n",
        "How do we run these neural networks on the GPU?\n",
        "\n",
        "Training on GPU\n",
        "----------------\n",
        "Just like how you transfer a Tensor on to the GPU, you transfer the neural\n",
        "net onto the GPU.\n",
        "\n",
        "Let's first define our device as the first visible cuda device if we have\n",
        "CUDA available:\n",
        "\n"
      ]
    },
    {
      "cell_type": "code",
      "execution_count": null,
      "metadata": {
        "id": "W3oSV8_vRKp0"
      },
      "outputs": [],
      "source": [
        "device = torch.device(\"cuda:0\" if torch.cuda.is_available() else \"cpu\")\n",
        "\n",
        "# Assume that we are on a CUDA machine, then this should print a CUDA device:\n",
        "\n",
        "print(device)"
      ]
    },
    {
      "cell_type": "markdown",
      "metadata": {
        "id": "6yTopKXBRKp0"
      },
      "source": [
        "The rest of this section assumes that `device` is a CUDA device.\n",
        "\n",
        "Then these methods will recursively go over all modules and convert their\n",
        "parameters and buffers to CUDA tensors:\n",
        "\n",
        ".. code:: python\n",
        "\n",
        "    net.to(device)\n",
        "\n",
        "\n",
        "Remember that you will have to send the inputs and targets at every step\n",
        "to the GPU too:\n",
        "\n",
        ".. code:: python\n",
        "\n",
        "        inputs, labels = inputs.to(device), labels.to(device)\n",
        "\n",
        "Why dont I notice MASSIVE speedup compared to CPU? Because your network\n",
        "is realllly small.\n",
        "\n",
        "**Exercise:** Try increasing the width of your network (argument 2 of\n",
        "the first ``nn.Conv2d``, and argument 1 of the second ``nn.Conv2d`` –\n",
        "they need to be the same number), see what kind of speedup you get.\n",
        "\n",
        "**Goals achieved**:\n",
        "\n",
        "- Understanding PyTorch's Tensor library and neural networks at a high level.\n",
        "- Train a small neural network to classify images\n",
        "\n",
        "Training on multiple GPUs\n",
        "-------------------------\n",
        "If you want to see even more MASSIVE speedup using all of your GPUs,\n",
        "please check out :doc:`data_parallel_tutorial`.\n",
        "\n",
        "Where do I go next?\n",
        "-------------------\n",
        "\n",
        "-  :doc:`Train neural nets to play video games </intermediate/reinforcement_q_learning>`\n",
        "-  `Train a state-of-the-art ResNet network on imagenet`_\n",
        "-  `Train a face generator using Generative Adversarial Networks`_\n",
        "-  `Train a word-level language model using Recurrent LSTM networks`_\n",
        "-  `More examples`_\n",
        "-  `More tutorials`_\n",
        "-  `Discuss PyTorch on the Forums`_\n",
        "-  `Chat with other users on Slack`_\n",
        "\n",
        "\n"
      ]
    }
  ],
  "metadata": {
    "kernelspec": {
      "display_name": "Python 3",
      "name": "python3"
    },
    "language_info": {
      "codemirror_mode": {
        "name": "ipython",
        "version": 3
      },
      "file_extension": ".py",
      "mimetype": "text/x-python",
      "name": "python",
      "nbconvert_exporter": "python",
      "pygments_lexer": "ipython3",
      "version": "3.6.6"
    },
    "colab": {
      "provenance": [],
      "gpuType": "T4"
    },
    "accelerator": "GPU"
  },
  "nbformat": 4,
  "nbformat_minor": 0
}