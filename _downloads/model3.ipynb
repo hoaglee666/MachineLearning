{
  "cells": [
    {
      "cell_type": "code",
      "execution_count": 1,
      "metadata": {
        "id": "M0ChYPGuRKpq"
      },
      "outputs": [],
      "source": [
        "%matplotlib inline"
      ]
    },
    {
      "cell_type": "markdown",
      "metadata": {
        "id": "VmlPjiluRKpt"
      },
      "source": [
        "\n",
        "Training a Classifier\n",
        "=====================\n",
        "\n",
        "This is it. You have seen how to define neural networks, compute loss and make\n",
        "updates to the weights of the network.\n",
        "\n",
        "Now you might be thinking,\n",
        "\n",
        "What about data?\n",
        "----------------\n",
        "\n",
        "Generally, when you have to deal with image, text, audio or video data,\n",
        "you can use standard python packages that load data into a numpy array.\n",
        "Then you can convert this array into a ``torch.*Tensor``.\n",
        "\n",
        "-  For images, packages such as Pillow, OpenCV are useful\n",
        "-  For audio, packages such as scipy and librosa\n",
        "-  For text, either raw Python or Cython based loading, or NLTK and\n",
        "   SpaCy are useful\n",
        "\n",
        "Specifically for vision, we have created a package called\n",
        "``torchvision``, that has data loaders for common datasets such as\n",
        "Imagenet, CIFAR10, MNIST, etc. and data transformers for images, viz.,\n",
        "``torchvision.datasets`` and ``torch.utils.data.DataLoader``.\n",
        "\n",
        "This provides a huge convenience and avoids writing boilerplate code.\n",
        "\n",
        "For this tutorial, we will use the CIFAR10 dataset.\n",
        "It has the classes: ‘airplane’, ‘automobile’, ‘bird’, ‘cat’, ‘deer’,\n",
        "‘dog’, ‘frog’, ‘horse’, ‘ship’, ‘truck’. The images in CIFAR-10 are of\n",
        "size 3x32x32, i.e. 3-channel color images of 32x32 pixels in size.\n",
        "\n",
        ".. figure:: /_static/img/cifar10.png\n",
        "   :alt: cifar10\n",
        "\n",
        "   cifar10\n",
        "\n",
        "\n",
        "Training an image classifier\n",
        "----------------------------\n",
        "\n",
        "We will do the following steps in order:\n",
        "\n",
        "1. Load and normalizing the CIFAR10 training and test datasets using\n",
        "   ``torchvision``\n",
        "2. Define a Convolution Neural Network\n",
        "3. Define a loss function\n",
        "4. Train the network on the training data\n",
        "5. Test the network on the test data\n",
        "\n",
        "1. Loading and normalizing CIFAR10\n",
        "^^^^^^^^^^^^^^^^^^^^^^^^^^^^^^^^^^\n",
        "\n",
        "Using ``torchvision``, it’s extremely easy to load CIFAR10.\n",
        "\n"
      ]
    },
    {
      "cell_type": "code",
      "execution_count": 2,
      "metadata": {
        "colab": {
          "base_uri": "https://localhost:8080/"
        },
        "id": "x8P4A47KRKpw",
        "outputId": "0e947533-a193-480b-fed4-a4294a58a69e"
      },
      "outputs": [
        {
          "output_type": "stream",
          "name": "stdout",
          "text": [
            "cuda:0\n"
          ]
        }
      ],
      "source": [
        "import torch\n",
        "import torchvision\n",
        "import torchvision.transforms as transforms\n",
        "\n",
        "device = torch.device(\"cuda:0\" if torch.cuda.is_available() else \"cpu\")\n",
        "\n",
        "# Assume that we are on a CUDA machine, then this should print a CUDA device:\n",
        "\n",
        "print(device)"
      ]
    },
    {
      "cell_type": "markdown",
      "metadata": {
        "id": "N-QijpJWRKpw"
      },
      "source": [
        "The output of torchvision datasets are PILImage images of range [0, 1].\n",
        "We transform them to Tensors of normalized range [-1, 1].\n",
        "\n"
      ]
    },
    {
      "cell_type": "code",
      "execution_count": 3,
      "metadata": {
        "colab": {
          "base_uri": "https://localhost:8080/"
        },
        "id": "sK7oWlNrRKpx",
        "outputId": "0c73f204-51de-4485-e1a2-b0858e0be733"
      },
      "outputs": [
        {
          "output_type": "stream",
          "name": "stderr",
          "text": [
            "100%|██████████| 170M/170M [00:03<00:00, 42.9MB/s]\n"
          ]
        }
      ],
      "source": [
        "transform = transforms.Compose(\n",
        "    [transforms.ToTensor(),\n",
        "     transforms.Normalize((0.5, 0.5, 0.5), (0.5, 0.5, 0.5))])\n",
        "\n",
        "trainset = torchvision.datasets.CIFAR10(root='./data', train=True,\n",
        "                                        download=True, transform=transform)\n",
        "trainloader = torch.utils.data.DataLoader(trainset, batch_size=4,\n",
        "                                          shuffle=True, num_workers=2)\n",
        "\n",
        "testset = torchvision.datasets.CIFAR10(root='./data', train=False,\n",
        "                                       download=True, transform=transform)\n",
        "testloader = torch.utils.data.DataLoader(testset, batch_size=4,\n",
        "                                         shuffle=False, num_workers=2)\n",
        "\n",
        "classes = ('plane', 'car', 'bird', 'cat',\n",
        "           'deer', 'dog', 'frog', 'horse', 'ship', 'truck')"
      ]
    },
    {
      "cell_type": "markdown",
      "metadata": {
        "id": "LgFmfYLuRKpx"
      },
      "source": [
        "Let us show some of the training images, for fun.\n",
        "\n"
      ]
    },
    {
      "cell_type": "code",
      "execution_count": 4,
      "metadata": {
        "colab": {
          "base_uri": "https://localhost:8080/",
          "height": 211
        },
        "id": "Pkv6tEgORKpx",
        "outputId": "f75a9bc9-8bca-4b8f-eb6a-a467065ef432"
      },
      "outputs": [
        {
          "output_type": "stream",
          "name": "stdout",
          "text": [
            "  car  bird plane  ship\n"
          ]
        },
        {
          "output_type": "display_data",
          "data": {
            "text/plain": [
              "<Figure size 640x480 with 1 Axes>"
            ],
            "image/png": "[encoded data removed]"
          },
          "metadata": {}
        }
      ],
      "source": [
        "import matplotlib.pyplot as plt\n",
        "import numpy as np\n",
        "\n",
        "# functions to show an image\n",
        "\n",
        "\n",
        "def imshow(img):\n",
        "    img = img / 2 + 0.5     # unnormalize\n",
        "    npimg = img.numpy()\n",
        "    plt.imshow(np.transpose(npimg, (1, 2, 0)))\n",
        "\n",
        "\n",
        "# get some random training images\n",
        "dataiter = iter(trainloader)\n",
        "images, labels = next(dataiter)\n",
        "\n",
        "# show images\n",
        "imshow(torchvision.utils.make_grid(images))\n",
        "# print labels\n",
        "print(' '.join('%5s' % classes[labels[j]] for j in range(4)))"
      ]
    },
    {
      "cell_type": "markdown",
      "metadata": {
        "id": "2wT3ZZvLRKpy"
      },
      "source": [
        "2. Define a Convolution Neural Network\n",
        "^^^^^^^^^^^^^^^^^^^^^^^^^^^^^^^^^^^^^^\n",
        "Copy the neural network from the Neural Networks section before and modify it to\n",
        "take 3-channel images (instead of 1-channel images as it was defined).\n",
        "\n"
      ]
    },
    {
      "cell_type": "code",
      "execution_count": 39,
      "metadata": {
        "colab": {
          "base_uri": "https://localhost:8080/"
        },
        "id": "VoQiEXcbRKpy",
        "outputId": "3eb55e97-6d27-472d-e497-86e1abf287f5"
      },
      "outputs": [
        {
          "output_type": "stream",
          "name": "stdout",
          "text": [
            "Net(\n",
            "  (conv51): Conv2d(3, 32, kernel_size=(5, 5), stride=(1, 1), padding=(1, 1))\n",
            "  (conv52): Conv2d(32, 64, kernel_size=(5, 5), stride=(1, 1), padding=(1, 1))\n",
            "  (conv53): Conv2d(3, 32, kernel_size=(5, 5), stride=(1, 1), padding=(2, 2))\n",
            "  (conv31): Conv2d(32, 32, kernel_size=(3, 3), stride=(1, 1))\n",
            "  (conv32): Conv2d(32, 64, kernel_size=(3, 3), stride=(1, 1))\n",
            "  (pool3): MaxPool2d(kernel_size=3, stride=1, padding=0, dilation=1, ceil_mode=False)\n",
            "  (conv54): Conv2d(64, 64, kernel_size=(5, 5), stride=(1, 1), padding=(1, 1))\n",
            "  (conv55): Conv2d(64, 64, kernel_size=(5, 5), stride=(1, 1), padding=(1, 1))\n",
            "  (conv33): Conv2d(64, 128, kernel_size=(3, 3), stride=(1, 1))\n",
            "  (conv56): Conv2d(32, 32, kernel_size=(5, 5), stride=(1, 1), padding=(1, 1))\n",
            "  (conv57): Conv2d(32, 64, kernel_size=(5, 5), stride=(1, 1), padding=(1, 1))\n",
            "  (conv34): Conv2d(64, 64, kernel_size=(3, 3), stride=(1, 1))\n",
            "  (conv35): Conv2d(64, 64, kernel_size=(3, 3), stride=(1, 1), padding=(2, 2))\n",
            "  (conv58): Conv2d(64, 64, kernel_size=(5, 5), stride=(1, 1), padding=(1, 1))\n",
            "  (conv59): Conv2d(64, 128, kernel_size=(5, 5), stride=(1, 1), padding=(1, 1))\n",
            "  (pool5): MaxPool2d(kernel_size=5, stride=1, padding=1, dilation=1, ceil_mode=False)\n",
            "  (conv36): Conv2d(32, 64, kernel_size=(3, 3), stride=(1, 1))\n",
            "  (conv37): Conv2d(128, 256, kernel_size=(3, 3), stride=(1, 1), padding=(1, 1))\n",
            "  (conv38): Conv2d(256, 256, kernel_size=(3, 3), stride=(1, 1), padding=(1, 1))\n",
            "  (conv510): Conv2d(256, 256, kernel_size=(5, 5), stride=(1, 1), padding=(1, 1))\n",
            "  (conv39): Conv2d(256, 512, kernel_size=(3, 3), stride=(2, 2))\n",
            "  (conv310): Conv2d(512, 1024, kernel_size=(3, 3), stride=(2, 2))\n",
            "  (fc1): Linear(in_features=16384, out_features=120, bias=True)\n",
            "  (fc2): Linear(in_features=120, out_features=10, bias=True)\n",
            ")\n",
            "----------------------------------------------------------------\n",
            "        Layer (type)               Output Shape         Param #\n",
            "================================================================\n",
            "            Conv2d-1           [-1, 32, 30, 30]           2,432\n",
            "            Conv2d-2           [-1, 64, 28, 28]          51,264\n",
            "            Conv2d-3           [-1, 32, 32, 32]           2,432\n",
            "            Conv2d-4           [-1, 32, 30, 30]           9,248\n",
            "            Conv2d-5           [-1, 64, 28, 28]          18,496\n",
            "         MaxPool2d-6           [-1, 64, 26, 26]               0\n",
            "            Conv2d-7           [-1, 32, 28, 28]          25,632\n",
            "         MaxPool2d-8           [-1, 32, 26, 26]               0\n",
            "            Conv2d-9           [-1, 64, 26, 26]          51,264\n",
            "           Conv2d-10           [-1, 64, 24, 24]          36,928\n",
            "           Conv2d-11           [-1, 64, 24, 24]          18,496\n",
            "           Conv2d-12          [-1, 256, 24, 24]         295,168\n",
            "           Conv2d-13          [-1, 256, 24, 24]         590,080\n",
            "           Conv2d-14          [-1, 256, 22, 22]       1,638,656\n",
            "           Conv2d-15           [-1, 64, 24, 24]         102,464\n",
            "           Conv2d-16           [-1, 64, 22, 22]         102,464\n",
            "           Conv2d-17          [-1, 128, 22, 22]          73,856\n",
            "           Conv2d-18           [-1, 64, 26, 26]          36,928\n",
            "           Conv2d-19           [-1, 64, 24, 24]         102,464\n",
            "           Conv2d-20          [-1, 128, 22, 22]         204,928\n",
            "           Conv2d-21          [-1, 512, 10, 10]       1,180,160\n",
            "           Conv2d-22           [-1, 1024, 4, 4]       4,719,616\n",
            "           Linear-23                  [-1, 120]       1,966,200\n",
            "           Linear-24                   [-1, 10]           1,210\n",
            "================================================================\n",
            "Total params: 11,230,386\n",
            "Trainable params: 11,230,386\n",
            "Non-trainable params: 0\n",
            "----------------------------------------------------------------\n",
            "Input size (MB): 0.01\n",
            "Forward/backward pass size (MB): 8.82\n",
            "Params size (MB): 42.84\n",
            "Estimated Total Size (MB): 51.67\n",
            "----------------------------------------------------------------\n"
          ]
        }
      ],
      "source": [
        "import torch.nn as nn\n",
        "import torch.nn.functional as F\n",
        "\n",
        "\n",
        "class Net(nn.Module):\n",
        "    def __init__(self):\n",
        "        super(Net, self).__init__()\n",
        "        #branch 1\n",
        "        self.conv51 = nn.Conv2d(3, 32, 5, 1, 1)\n",
        "        self.conv52 = nn.Conv2d(32, 64, 5, 1, 1)\n",
        "        #branch 2\n",
        "        self.conv53 = nn.Conv2d(3, 32, 5, 1, 2)\n",
        "        self.conv31 = nn.Conv2d(32, 32, 3, 1, 0)\n",
        "        #block 1\n",
        "        self.conv32 = nn.Conv2d(32, 64, 3, 1, 0)\n",
        "        self.pool3 = nn.MaxPool2d(3, 1, 0)\n",
        "        self.conv54 = nn.Conv2d(64, 64, 5, 1, 1)\n",
        "        self.conv55 = nn.Conv2d(64, 64, 5, 1, 1)\n",
        "        self.conv33 = nn.Conv2d(64, 128, 3, 1, 0)\n",
        "        #block2\n",
        "        self.conv56 = nn.Conv2d(32, 32, 5, 1, 1)\n",
        "        self.conv57 = nn.Conv2d(32, 64, 5, 1, 1)\n",
        "        self.conv34 = nn.Conv2d(64, 64, 3, 1, 0)\n",
        "        self.conv35 = nn.Conv2d(64, 64, 3, 1, 2)\n",
        "        self.conv58 = nn.Conv2d(64, 64, 5, 1, 1)\n",
        "        self.conv59 = nn.Conv2d(64, 128, 5, 1, 1)\n",
        "        #branch3\n",
        "        self.pool5 = nn.MaxPool2d(5, 1, 1)\n",
        "        self.conv36 = nn.Conv2d(32, 64, 3, 1, 0)\n",
        "        self.conv37 = nn.Conv2d(128, 256, 3, 1, 1)\n",
        "        self.conv38 = nn.Conv2d(256, 256, 3, 1, 1)\n",
        "        self.conv510 = nn.Conv2d(256, 256, 5, 1, 1)\n",
        "        #final\n",
        "        self.conv39 = nn.Conv2d(256, 512, 3, 2, 0)\n",
        "        self.conv310 = nn.Conv2d(512, 1024, 3, 2, 0)\n",
        "\n",
        "        self.fc1 = nn.Linear(4 * 4 * 1024, 120)\n",
        "        self.fc2 = nn.Linear(120, 10)\n",
        "\n",
        "    def forward(self, x):\n",
        "        #branch 1\n",
        "        x0 = F.relu(self.conv51(x))\n",
        "        x0 = F.relu(self.conv52(x0))\n",
        "        #branch 2\n",
        "        x1 = F.relu(self.conv53(x))\n",
        "        x1 = F.relu(self.conv31(x1))\n",
        "        #block1\n",
        "        x2 = F.relu(self.conv32(x1))\n",
        "        x0 = x2 + x0\n",
        "        x2 = self.pool3(x2)\n",
        "        x3 = F.relu(self.conv56(x1))\n",
        "        x4 = self.pool5(x3)\n",
        "        x3 = F.relu(self.conv57(x3))\n",
        "        x3 = F.relu(self.conv34(x3))\n",
        "        x4 = F.relu(self.conv36(x4))\n",
        "        x4 = torch.cat((x3, x4),dim=1)\n",
        "        x4 = F.relu(self.conv37(x4))\n",
        "        x4 = F.relu(self.conv38(x4))\n",
        "        x4 = F.relu(self.conv510(x4))\n",
        "        x2 = F.relu(self.conv54(x2))\n",
        "        x2 = F.relu(self.conv55(x2))\n",
        "        x2 = F.relu(self.conv33(x3))\n",
        "        x3 = F.relu(self.conv35(x3))\n",
        "        x3 = F.relu(self.conv58(x3))\n",
        "        x3 = F.relu(self.conv59(x3))\n",
        "        x2 = torch.cat((x2, x3), dim=1)\n",
        "        x = x2 + x4\n",
        "        x = F.relu(self.conv39(x))\n",
        "        x = F.relu(self.conv310(x))\n",
        "\n",
        "\n",
        "        x = x.view(-1, 4 * 4 * 1024)\n",
        "        x = F.relu(self.fc1(x))\n",
        "        x = self.fc2(x)\n",
        "        return x\n",
        "\n",
        "\n",
        "model = Net()\n",
        "from torchsummary import summary\n",
        "net = model.to(device)\n",
        "print(net)\n",
        "summary(net, input_size=(3, 32, 32))"
      ]
    },
    {
      "cell_type": "code",
      "source": [],
      "metadata": {
        "id": "pAGe1UOngzrl"
      },
      "execution_count": 39,
      "outputs": []
    },
    {
      "cell_type": "markdown",
      "metadata": {
        "id": "L87Ma3GfRKpy"
      },
      "source": [
        "3. Define a Loss function and optimizer\n",
        "^^^^^^^^^^^^^^^^^^^^^^^^^^^^^^^^^^^^^^^\n",
        "Let's use a Classification Cross-Entropy loss and SGD with momentum.\n",
        "\n"
      ]
    },
    {
      "cell_type": "code",
      "execution_count": 40,
      "metadata": {
        "id": "yNywhNjzRKpy"
      },
      "outputs": [],
      "source": [
        "import torch.optim as optim\n",
        "\n",
        "criterion = nn.CrossEntropyLoss()\n",
        "optimizer = optim.SGD(net.parameters(), lr=0.001, momentum=0.9)"
      ]
    },
    {
      "cell_type": "markdown",
      "metadata": {
        "id": "cIX6LZn8RKpy"
      },
      "source": [
        "4. Train the network\n",
        "^^^^^^^^^^^^^^^^^^^^\n",
        "\n",
        "This is when things start to get interesting.\n",
        "We simply have to loop over our data iterator, and feed the inputs to the\n",
        "network and optimize.\n",
        "\n"
      ]
    },
    {
      "cell_type": "code",
      "execution_count": 42,
      "metadata": {
        "id": "hkqS9KZfRKpz",
        "colab": {
          "base_uri": "https://localhost:8080/"
        },
        "collapsed": true,
        "outputId": "5f101983-7ea2-4ee5-f5af-af98902dd2d0"
      },
      "outputs": [
        {
          "output_type": "stream",
          "name": "stdout",
          "text": [
            "[1,  2000] loss: 2.104\n",
            "[1,  4000] loss: 1.939\n",
            "[1,  6000] loss: 1.841\n",
            "[1,  8000] loss: 1.789\n",
            "[1, 10000] loss: 1.738\n",
            "[1, 12000] loss: 1.653\n",
            "[2,  2000] loss: 1.606\n",
            "[2,  4000] loss: 1.568\n",
            "[2,  6000] loss: 1.529\n",
            "[2,  8000] loss: 1.475\n",
            "[2, 10000] loss: 1.451\n",
            "[2, 12000] loss: 1.418\n",
            "[3,  2000] loss: 1.359\n",
            "[3,  4000] loss: 1.347\n",
            "[3,  6000] loss: 1.328\n",
            "[3,  8000] loss: 1.302\n",
            "[3, 10000] loss: 1.255\n",
            "[3, 12000] loss: 1.265\n",
            "[4,  2000] loss: 1.179\n",
            "[4,  4000] loss: 1.207\n",
            "[4,  6000] loss: 1.147\n",
            "[4,  8000] loss: 1.138\n",
            "[4, 10000] loss: 1.135\n",
            "[4, 12000] loss: 1.098\n",
            "[5,  2000] loss: 1.040\n",
            "[5,  4000] loss: 1.036\n",
            "[5,  6000] loss: 1.035\n",
            "[5,  8000] loss: 1.023\n",
            "[5, 10000] loss: 0.986\n",
            "[5, 12000] loss: 0.988\n",
            "[6,  2000] loss: 0.917\n",
            "[6,  4000] loss: 0.922\n",
            "[6,  6000] loss: 0.907\n",
            "[6,  8000] loss: 0.888\n",
            "[6, 10000] loss: 0.886\n",
            "[6, 12000] loss: 0.871\n",
            "[7,  2000] loss: 0.792\n",
            "[7,  4000] loss: 0.796\n",
            "[7,  6000] loss: 0.805\n",
            "[7,  8000] loss: 0.814\n",
            "[7, 10000] loss: 0.797\n",
            "[7, 12000] loss: 0.791\n",
            "[8,  2000] loss: 0.656\n",
            "[8,  4000] loss: 0.723\n",
            "[8,  6000] loss: 0.709\n",
            "[8,  8000] loss: 0.710\n",
            "[8, 10000] loss: 0.718\n",
            "[8, 12000] loss: 0.710\n",
            "[9,  2000] loss: 0.586\n",
            "[9,  4000] loss: 0.600\n",
            "[9,  6000] loss: 0.631\n",
            "[9,  8000] loss: 0.638\n",
            "[9, 10000] loss: 0.622\n",
            "[9, 12000] loss: 0.639\n",
            "[10,  2000] loss: 0.490\n",
            "[10,  4000] loss: 0.514\n",
            "[10,  6000] loss: 0.544\n",
            "[10,  8000] loss: 0.553\n",
            "[10, 10000] loss: 0.554\n",
            "[10, 12000] loss: 0.579\n",
            "Finished Training\n"
          ]
        }
      ],
      "source": [
        "for epoch in range(10):  # loop over the dataset multiple times\n",
        "\n",
        "    running_loss = 0.0\n",
        "    for i, data in enumerate(trainloader, 0):\n",
        "        # get the inputs; data is a list of [inputs, labels]\n",
        "        inputs, labels = data\n",
        "\n",
        "        # Move inputs and labels to the device\n",
        "        inputs, labels = inputs.to(device), labels.to(device)\n",
        "\n",
        "        # zero the parameter gradients\n",
        "        optimizer.zero_grad()\n",
        "\n",
        "        # forward + backward + optimize\n",
        "        outputs = net(inputs)\n",
        "        loss = criterion(outputs, labels)\n",
        "        loss.backward()\n",
        "        optimizer.step()\n",
        "\n",
        "        # print statistics\n",
        "        running_loss += loss.item()\n",
        "        if i % 2000 == 1999:    # print every 2000 mini-batches\n",
        "            print('[%d, %5d] loss: %.3f' %\n",
        "                  (epoch + 1, i + 1, running_loss / 2000))\n",
        "            running_loss = 0.0\n",
        "\n",
        "print('Finished Training')"
      ]
    },
    {
      "cell_type": "markdown",
      "metadata": {
        "id": "kiGvC6msRKpz"
      },
      "source": [
        "5. Test the network on the test data\n",
        "^^^^^^^^^^^^^^^^^^^^^^^^^^^^^^^^^^^^\n",
        "\n",
        "We have trained the network for 2 passes over the training dataset.\n",
        "But we need to check if the network has learnt anything at all.\n",
        "\n",
        "We will check this by predicting the class label that the neural network\n",
        "outputs, and checking it against the ground-truth. If the prediction is\n",
        "correct, we add the sample to the list of correct predictions.\n",
        "\n",
        "Okay, first step. Let us display an image from the test set to get familiar.\n",
        "\n"
      ]
    },
    {
      "cell_type": "code",
      "execution_count": 43,
      "metadata": {
        "id": "fDu8CQC1RKpz",
        "colab": {
          "base_uri": "https://localhost:8080/",
          "height": 211
        },
        "outputId": "47d6c737-3945-4312-d93f-a1efe0382f40"
      },
      "outputs": [
        {
          "output_type": "stream",
          "name": "stdout",
          "text": [
            "GroundTruth:    cat  ship  ship plane\n"
          ]
        },
        {
          "output_type": "display_data",
          "data": {
            "text/plain": [
              "<Figure size 640x480 with 1 Axes>"
            ],
            "image/png": "[encoded data removed]"
          },
          "metadata": {}
        }
      ],
      "source": [
        "dataiter = iter(testloader)\n",
        "images, labels = next(dataiter)\n",
        "\n",
        "# print images\n",
        "imshow(torchvision.utils.make_grid(images))\n",
        "print('GroundTruth: ', ' '.join('%5s' % classes[labels[j]] for j in range(4)))"
      ]
    },
    {
      "cell_type": "markdown",
      "metadata": {
        "id": "Mg3v9PY7RKpz"
      },
      "source": [
        "Okay, now let us see what the neural network thinks these examples above are:\n",
        "\n"
      ]
    },
    {
      "cell_type": "code",
      "execution_count": 44,
      "metadata": {
        "id": "B2dOHBKWRKpz"
      },
      "outputs": [],
      "source": [
        "images = images.to(device)\n",
        "outputs = net(images)"
      ]
    },
    {
      "cell_type": "markdown",
      "metadata": {
        "id": "EYvMQFfKRKpz"
      },
      "source": [
        "The outputs are energies for the 10 classes.\n",
        "Higher the energy for a class, the more the network\n",
        "thinks that the image is of the particular class.\n",
        "So, let's get the index of the highest energy:\n",
        "\n"
      ]
    },
    {
      "cell_type": "code",
      "execution_count": 45,
      "metadata": {
        "id": "T3CP2c1ZRKpz",
        "colab": {
          "base_uri": "https://localhost:8080/"
        },
        "outputId": "ae103b5f-aea7-4367-cc0c-c975f2aa38e2"
      },
      "outputs": [
        {
          "output_type": "stream",
          "name": "stdout",
          "text": [
            "Predicted:    cat  ship  ship plane\n"
          ]
        }
      ],
      "source": [
        "_, predicted = torch.max(outputs, 1)\n",
        "\n",
        "print('Predicted: ', ' '.join('%5s' % classes[predicted[j]]\n",
        "                              for j in range(4)))"
      ]
    },
    {
      "cell_type": "markdown",
      "metadata": {
        "id": "IS5fxOv0RKp0"
      },
      "source": [
        "The results seem pretty good.\n",
        "\n",
        "Let us look at how the network performs on the whole dataset.\n",
        "\n"
      ]
    },
    {
      "cell_type": "code",
      "execution_count": 46,
      "metadata": {
        "id": "Rr4Mmz2MRKp0",
        "colab": {
          "base_uri": "https://localhost:8080/"
        },
        "outputId": "af5227ec-33bc-4b7b-8d70-ee0f9bbb5216"
      },
      "outputs": [
        {
          "output_type": "stream",
          "name": "stdout",
          "text": [
            "Accuracy of the network on the 10000 test images: 71 %\n"
          ]
        }
      ],
      "source": [
        "correct = 0\n",
        "total = 0\n",
        "with torch.no_grad():\n",
        "    for data in testloader:\n",
        "        images, labels = data\n",
        "        images = images.to(device)\n",
        "        labels = labels.to(device)\n",
        "        outputs = net(images)\n",
        "        _, predicted = torch.max(outputs.data, 1)\n",
        "        total += labels.size(0)\n",
        "        correct += (predicted == labels).sum().item()\n",
        "\n",
        "print('Accuracy of the network on the 10000 test images: %d %%' % (\n",
        "    100 * correct / total))"
      ]
    },
    {
      "cell_type": "markdown",
      "metadata": {
        "id": "fE746F4jRKp0"
      },
      "source": [
        "That looks waaay better than chance, which is 10% accuracy (randomly picking\n",
        "a class out of 10 classes).\n",
        "Seems like the network learnt something.\n",
        "\n",
        "Hmmm, what are the classes that performed well, and the classes that did\n",
        "not perform well:\n",
        "\n"
      ]
    },
    {
      "cell_type": "code",
      "execution_count": 47,
      "metadata": {
        "id": "VNO18nG7RKp0",
        "colab": {
          "base_uri": "https://localhost:8080/"
        },
        "outputId": "45d71e6e-18ed-4f4a-849d-4c2cabcfa058"
      },
      "outputs": [
        {
          "output_type": "stream",
          "name": "stdout",
          "text": [
            "Accuracy of plane : 77 %\n",
            "Accuracy of   car : 88 %\n",
            "Accuracy of  bird : 48 %\n",
            "Accuracy of   cat : 64 %\n",
            "Accuracy of  deer : 69 %\n",
            "Accuracy of   dog : 58 %\n",
            "Accuracy of  frog : 83 %\n",
            "Accuracy of horse : 67 %\n",
            "Accuracy of  ship : 82 %\n",
            "Accuracy of truck : 78 %\n"
          ]
        }
      ],
      "source": [
        "class_correct = list(0. for i in range(10))\n",
        "class_total = list(0. for i in range(10))\n",
        "with torch.no_grad():\n",
        "    for data in testloader:\n",
        "        images, labels = data\n",
        "        images = images.to(device)\n",
        "        labels = labels.to(device)\n",
        "        outputs = net(images)\n",
        "        _, predicted = torch.max(outputs, 1)\n",
        "        c = (predicted == labels).squeeze()\n",
        "        for i in range(4):\n",
        "            label = labels[i]\n",
        "            class_correct[label] += c[i].item()\n",
        "            class_total[label] += 1\n",
        "\n",
        "\n",
        "for i in range(10):\n",
        "    print('Accuracy of %5s : %2d %%' % (\n",
        "        classes[i], 100 * class_correct[i] / class_total[i]))"
      ]
    },
    {
      "cell_type": "markdown",
      "metadata": {
        "id": "Jr4TWP2LRKp0"
      },
      "source": [
        "Okay, so what next?\n",
        "\n",
        "How do we run these neural networks on the GPU?\n",
        "\n",
        "Training on GPU\n",
        "----------------\n",
        "Just like how you transfer a Tensor on to the GPU, you transfer the neural\n",
        "net onto the GPU.\n",
        "\n",
        "Let's first define our device as the first visible cuda device if we have\n",
        "CUDA available:\n",
        "\n"
      ]
    },
    {
      "cell_type": "code",
      "execution_count": null,
      "metadata": {
        "id": "W3oSV8_vRKp0"
      },
      "outputs": [],
      "source": [
        "device = torch.device(\"cuda:0\" if torch.cuda.is_available() else \"cpu\")\n",
        "\n",
        "# Assume that we are on a CUDA machine, then this should print a CUDA device:\n",
        "\n",
        "print(device)"
      ]
    },
    {
      "cell_type": "markdown",
      "metadata": {
        "id": "6yTopKXBRKp0"
      },
      "source": [
        "The rest of this section assumes that `device` is a CUDA device.\n",
        "\n",
        "Then these methods will recursively go over all modules and convert their\n",
        "parameters and buffers to CUDA tensors:\n",
        "\n",
        ".. code:: python\n",
        "\n",
        "    net.to(device)\n",
        "\n",
        "\n",
        "Remember that you will have to send the inputs and targets at every step\n",
        "to the GPU too:\n",
        "\n",
        ".. code:: python\n",
        "\n",
        "        inputs, labels = inputs.to(device), labels.to(device)\n",
        "\n",
        "Why dont I notice MASSIVE speedup compared to CPU? Because your network\n",
        "is realllly small.\n",
        "\n",
        "**Exercise:** Try increasing the width of your network (argument 2 of\n",
        "the first ``nn.Conv2d``, and argument 1 of the second ``nn.Conv2d`` –\n",
        "they need to be the same number), see what kind of speedup you get.\n",
        "\n",
        "**Goals achieved**:\n",
        "\n",
        "- Understanding PyTorch's Tensor library and neural networks at a high level.\n",
        "- Train a small neural network to classify images\n",
        "\n",
        "Training on multiple GPUs\n",
        "-------------------------\n",
        "If you want to see even more MASSIVE speedup using all of your GPUs,\n",
        "please check out :doc:`data_parallel_tutorial`.\n",
        "\n",
        "Where do I go next?\n",
        "-------------------\n",
        "\n",
        "-  :doc:`Train neural nets to play video games </intermediate/reinforcement_q_learning>`\n",
        "-  `Train a state-of-the-art ResNet network on imagenet`_\n",
        "-  `Train a face generator using Generative Adversarial Networks`_\n",
        "-  `Train a word-level language model using Recurrent LSTM networks`_\n",
        "-  `More examples`_\n",
        "-  `More tutorials`_\n",
        "-  `Discuss PyTorch on the Forums`_\n",
        "-  `Chat with other users on Slack`_\n",
        "\n",
        "\n"
      ]
    }
  ],
  "metadata": {
    "kernelspec": {
      "display_name": "Python 3",
      "name": "python3"
    },
    "language_info": {
      "codemirror_mode": {
        "name": "ipython",
        "version": 3
      },
      "file_extension": ".py",
      "mimetype": "text/x-python",
      "name": "python",
      "nbconvert_exporter": "python",
      "pygments_lexer": "ipython3",
      "version": "3.6.6"
    },
    "colab": {
      "provenance": [],
      "gpuType": "T4"
    },
    "accelerator": "GPU"
  },
  "nbformat": 4,
  "nbformat_minor": 0
}